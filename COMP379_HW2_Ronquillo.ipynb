{
  "nbformat": 4,
  "nbformat_minor": 0,
  "metadata": {
    "colab": {
      "provenance": []
    },
    "kernelspec": {
      "name": "python3",
      "display_name": "Python 3"
    },
    "language_info": {
      "name": "python"
    }
  },
  "cells": [
    {
      "cell_type": "markdown",
      "source": [
        "## Problem 1 \n",
        "It is a common practice in machine learning to create synthetic data withwell-understood properties to investigate the behavior of an algorithm.Please create your own dataset (at least 10 examples) that is linearlyseparable. Now train a perceptron model. Provide evidence that your perceptron found a decision boundary. Finally, measure the accuracy ofyour model on the training set and comment on the result. "
      ],
      "metadata": {
        "id": "iwWMBIsplc7y"
      }
    },
    {
      "cell_type": "code",
      "execution_count": null,
      "metadata": {
        "id": "6QXwboadhAxV"
      },
      "outputs": [],
      "source": [
        "import numpy as np\n",
        "import pandas as pd\n",
        "import matplotlib.pyplot as plt"
      ]
    },
    {
      "cell_type": "code",
      "source": [
        "#dataset\n",
        "dataset = [[2.7810836,2.550537003,0],\n",
        "\t[1.465489372,2.362125076,0],\n",
        "\t[3.396561688,4.400293529,0],\n",
        "\t[1.38807019,1.850220317,0],\n",
        "\t[3.06407232,3.005305973,0],\n",
        "\t[7.627531214,2.759262235,1],\n",
        "\t[5.332441248,2.088626775,1],\n",
        "\t[6.922596716,1.77106367,1],\n",
        "\t[8.675418651,-0.242068655,1],\n",
        "\t[7.673756466,3.508563011,1]]\n",
        "\n",
        "dataf = pd.DataFrame(data=dataset)"
      ],
      "metadata": {
        "id": "_iyKYf5hi0fA"
      },
      "execution_count": null,
      "outputs": []
    },
    {
      "cell_type": "code",
      "source": [
        "#taken from author's github, incorporated the dataset above\n",
        "%matplotlib inline\n",
        "import matplotlib.pyplot as plt\n",
        "import numpy as np\n",
        "\n",
        "y = dataf.iloc[0:10, 2].values\n",
        "y = np.where(y == 1, 1, -1)\n",
        "\n",
        "X = dataf.iloc[0:10, [0, 1]].values\n",
        "\n",
        "plt.scatter(X[0:5, 0], X[0:5, 1],\n",
        "            color='red', marker='o', label='0')\n",
        "plt.scatter(X[5:10, 0], X[5:10, 1],\n",
        "            color='blue', marker='x', label='1')\n",
        "\n",
        "plt.xlabel('x axis')\n",
        "plt.ylabel('y axis')\n",
        "plt.legend(loc='upper left')\n",
        "\n",
        "plt.tight_layout()\n",
        "#plt.savefig('./images/02_06.png', dpi=300)\n",
        "plt.show()"
      ],
      "metadata": {
        "colab": {
          "base_uri": "https://localhost:8080/",
          "height": 297
        },
        "id": "NYZi6tecPCXy",
        "outputId": "fff791d7-fee8-4b96-cfca-1bfe16bfd316"
      },
      "execution_count": null,
      "outputs": [
        {
          "output_type": "display_data",
          "data": {
            "text/plain": [
              "<Figure size 432x288 with 1 Axes>"
            ],
            "image/png": "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\n"
          },
          "metadata": {
            "needs_background": "light"
          }
        }
      ]
    },
    {
      "cell_type": "code",
      "source": [
        "x1 = np.array(dataf[0])\n",
        "#x1"
      ],
      "metadata": {
        "id": "NccGchnxkmun"
      },
      "execution_count": null,
      "outputs": []
    },
    {
      "cell_type": "code",
      "source": [
        "x2 = np.array(dataf[1])\n",
        "#x2"
      ],
      "metadata": {
        "id": "63D43INuko-Y"
      },
      "execution_count": null,
      "outputs": []
    },
    {
      "cell_type": "code",
      "source": [
        "targets  = np.array(dataf[2])\n",
        "#targets"
      ],
      "metadata": {
        "id": "A7Ar6suMwqOY"
      },
      "execution_count": null,
      "outputs": []
    },
    {
      "cell_type": "code",
      "source": [
        "#asd = 0.23635274139966045 + (2.7810836 * 0.49200532195490265) + (2.550537003 * 0.28430810832430364)\n",
        "#asd"
      ],
      "metadata": {
        "id": "xkjID-3ksEwk"
      },
      "execution_count": null,
      "outputs": []
    },
    {
      "cell_type": "code",
      "source": [
        "#initialize weights as 0\n",
        "weights = [0.0, 0.0, 0.0]\n",
        "\n",
        "#initialize number of iterations\n",
        "  #the amount of times the weight updating loops \n",
        "n_iter = 25\n",
        "\n",
        "#initialize learning rate\n",
        "  #smaller learning rate so it doesnt overshoot\n",
        "n_learn = 0.01\n",
        "\n",
        "#for every iteration\n",
        "  #for every index of each array (10 values)\n",
        "    #get z = net input of dot product of weights and predictors\n",
        "      ### weight[0] = bias, therefore for index weight[1] is associated with predictor x1, weight[2] with x2\n",
        "      #pass z through activation function\n",
        "        #if z >= 0, classify 1\n",
        "          #else classify 0\n",
        "        #append these values to a list (predict = [])\n",
        "          ###use this list to compare to actual outcomes from dataset\n",
        "      #get error by target value at index i - predicted value at index i\n",
        "        ### if no error, 1-1 = 0 or 0-0 = 0, then no change in weight\n",
        "        ### if misclassified 1-0 = 1 or 0-1 = -1, then update weights accordingly\n",
        "      #update weights\n",
        "        # weights[0] = bias, weights[0] + (learning rate * error)\n",
        "        # weights[1,2], weights[1,2] + learning rate * error * x1,x2[current value at index i]\n",
        "  #go to next values at next index and repeat\n",
        "#repeat whole cycle n amount of times to get more accurate weights\n",
        "err_in_iter = []\n",
        "for iter in range(n_iter):\n",
        "  #print(\"iteration: \" + str(iter))\n",
        "  predict = []\n",
        "  amt_err = 0.0\n",
        "  for i in range(len(x1)):    \n",
        "    #print(\"index: \" + str(i))\n",
        "    #print(x1[i])\n",
        "    #print(x2[i])\n",
        "    #print(\"weight 0: \" + str(weights[0]))\n",
        "    #print(\"weight 1: \" + str(weights[1]))\n",
        "    #print(\"weight 2: \" + str(weights[2]))\n",
        "    z = (weights[0] + (weights[1] * x1[i]) + (weights[2] * x2[i]))\n",
        "    #print(\"z = \" + str(z))\n",
        "    if z >= 0.0:\n",
        "      predict.append(1)\n",
        "    else:\n",
        "      predict.append(0)\n",
        "    #print(predict)\n",
        "    error = targets[i] - predict[i]\n",
        "    #print(\"error: \" + str(error))\n",
        "    amt_err += error**2\n",
        "    #print(\"sum_error: \" + str(amt_err))\n",
        "    weights[0] += (n_learn * error)\n",
        "    #print(\"updated weight 0 : \" + str(weights[0]))\n",
        "    weights[1] = weights[1] + (n_learn * error * x1[i])\n",
        "    #print(\"updated weight 1: \" + str(weights[1]))\n",
        "    weights[2] = weights[2] + (n_learn * error * x2[i])\n",
        "    #print(\"updated weight 2: \" + str(weights[2]))\n",
        "  err_in_iter.append(amt_err)\n"
      ],
      "metadata": {
        "id": "oPiFpBRIpqEV"
      },
      "execution_count": null,
      "outputs": []
    },
    {
      "cell_type": "code",
      "source": [
        "plt.plot(range(1, len(err_in_iter) + 1), err_in_iter, marker='o')\n",
        "plt.xlabel('iterations')\n",
        "plt.ylabel('Number of updates')\n",
        "\n",
        "plt.tight_layout()\n",
        "# plt.savefig('./perceptron_1.png', dpi=300)\n",
        "plt.show()"
      ],
      "metadata": {
        "colab": {
          "base_uri": "https://localhost:8080/",
          "height": 297
        },
        "id": "9pKRLzmNTHO_",
        "outputId": "54e84a28-1561-4c1e-dd49-d1105c17269a"
      },
      "execution_count": null,
      "outputs": [
        {
          "output_type": "display_data",
          "data": {
            "text/plain": [
              "<Figure size 432x288 with 1 Axes>"
            ],
            "image/png": "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\n"
          },
          "metadata": {
            "needs_background": "light"
          }
        }
      ]
    },
    {
      "cell_type": "code",
      "source": [
        "print(\"updated weights: \" + str(weights))\n",
        "print(\"predictions: \" + str(predict))\n",
        "print(\"Actual: \" + str(targets))\n",
        "print(\"Model accuracy: \" + str(((predict == targets).sum()) / targets.shape[0] * 100) + \"%\")\n",
        "print(\"errors per iteration: \" + str(err_in_iter))"
      ],
      "metadata": {
        "colab": {
          "base_uri": "https://localhost:8080/"
        },
        "id": "KDsv0__fj5lq",
        "outputId": "5d4bc59b-ded3-44a6-c870-4bdc58a71404"
      },
      "execution_count": null,
      "outputs": [
        {
          "output_type": "stream",
          "name": "stdout",
          "text": [
            "updated weights: [-0.01, 0.020653640140000002, -0.023418117710000002]\n",
            "predictions: [0, 0, 0, 0, 0, 1, 1, 1, 1, 1]\n",
            "Actual: [0 0 0 0 0 1 1 1 1 1]\n",
            "Model accuracy: 100.0%\n",
            "errors per iteration: [2.0, 1.0, 0.0, 0.0, 0.0, 0.0, 0.0, 0.0, 0.0, 0.0, 0.0, 0.0, 0.0, 0.0, 0.0, 0.0, 0.0, 0.0, 0.0, 0.0, 0.0, 0.0, 0.0, 0.0, 0.0]\n"
          ]
        }
      ]
    },
    {
      "cell_type": "code",
      "source": [
        "#test data to check if model can classify new data accurately\n",
        "testdata = [[3.06407232,3.555305973,0],\n",
        "\t[5.275312147,2.759262235,1],\n",
        "\t[2.772441248,2.988626775,0],\n",
        "  [6.332441248,3.988626775,1],\n",
        "  [4.532441248,1.088626775,0]]\n",
        "\n",
        "testdataf = pd.DataFrame(data=testdata)\n",
        "x1t = np.array(testdataf[0])\n",
        "x2t = np.array(testdataf[1])\n",
        "\n",
        "test_actual = np.array(testdataf[2])"
      ],
      "metadata": {
        "id": "POifw_olSv3c"
      },
      "execution_count": null,
      "outputs": []
    },
    {
      "cell_type": "code",
      "source": [
        "testpred = []\n",
        "for t in range(len(testdataf)):\n",
        "  z = weights[0]  + (weights[1]*x1t[t]) + (weights[2]*x2t[t])\n",
        "  if z >= 0:\n",
        "    testpred.append(1)\n",
        "  else:\n",
        "    testpred.append(0)\n",
        "\n",
        "print(\"Test predictions: \" + str(testpred))\n",
        "print(\"Test actual values: \" + str(test_actual))\n",
        "print(\"Test accuracy: \" + str(((testpred == test_actual).sum()) / test_actual.shape[0] * 100) + \"%\")\n",
        "\n"
      ],
      "metadata": {
        "id": "FYs2SrH6Smsm",
        "colab": {
          "base_uri": "https://localhost:8080/"
        },
        "outputId": "60d1ddbb-2ecb-4707-99b7-0280961343ea"
      },
      "execution_count": null,
      "outputs": [
        {
          "output_type": "stream",
          "name": "stdout",
          "text": [
            "Test predictions: [0, 1, 0, 1, 1]\n",
            "Test actual values: [0 1 0 1 0]\n",
            "Test accuracy: 80.0%\n"
          ]
        }
      ]
    },
    {
      "cell_type": "code",
      "source": [
        "#plotting the decision region to visualize where the model will sperate the data\n",
        "'''\n",
        "def plot_decision_regions(X, y, classifier, resolution=0.02):\n",
        "    colors = ('red', 'blue', 'lightgreen', 'gray', 'cyan')\n",
        "    cmap = ListedColormap(colors[:len(np.unique(y))])\n",
        "\n",
        "    # plot the decision surface\n",
        "    x1_min, x1_max = X[:, 0].min() - 1, X[:, 0].max() + 1\n",
        "    x2_min, x2_max = X[:, 1].min() - 1, X[:, 1].max() + 1\n",
        "    xx1, xx2 = np.meshgrid(np.arange(x1_min, x1_max, resolution),\n",
        "                           np.arange(x2_min, x2_max, resolution))\n",
        "    Z = classifier.predict(np.array([xx1.ravel(), xx2.ravel()]).T)\n",
        "    Z = Z.reshape(xx1.shape)\n",
        "    plt.contourf(xx1, xx2, Z, alpha=0.4, cmap=cmap)\n",
        "    plt.xlim(xx1.min(), xx1.max())\n",
        "    plt.ylim(xx2.min(), xx2.max())\n",
        "\n",
        "    # plot class samples\n",
        "    for idx, cl in enumerate(np.unique(y)):\n",
        "        plt.scatter(x=X[y == cl, 0], y=X[y == cl, 1],\n",
        "                    alpha=0.8, c=cmap(idx),\n",
        "                    edgecolor='black',\n",
        "                    marker = markers[idx], \n",
        "                    label=cl)\n",
        "\n",
        "plot_decision_regions(dataf, targets, classifier = asd)\n",
        "plt.xlabel('X')\n",
        "plt.ylabel('Y')\n",
        "plt.legend(loc='upper left')\n",
        "'''"
      ],
      "metadata": {
        "id": "K3o-woDVP_XT",
        "colab": {
          "base_uri": "https://localhost:8080/",
          "height": 174
        },
        "outputId": "33e84e62-3452-48e4-d136-52e44ec7f3fd"
      },
      "execution_count": null,
      "outputs": [
        {
          "output_type": "execute_result",
          "data": {
            "text/plain": [
              "\"\\ndef plot_decision_regions(X, y, classifier, resolution=0.02):\\n    colors = ('red', 'blue', 'lightgreen', 'gray', 'cyan')\\n    cmap = ListedColormap(colors[:len(np.unique(y))])\\n\\n    # plot the decision surface\\n    x1_min, x1_max = X[:, 0].min() - 1, X[:, 0].max() + 1\\n    x2_min, x2_max = X[:, 1].min() - 1, X[:, 1].max() + 1\\n    xx1, xx2 = np.meshgrid(np.arange(x1_min, x1_max, resolution),\\n                           np.arange(x2_min, x2_max, resolution))\\n    Z = classifier.predict(np.array([xx1.ravel(), xx2.ravel()]).T)\\n    Z = Z.reshape(xx1.shape)\\n    plt.contourf(xx1, xx2, Z, alpha=0.4, cmap=cmap)\\n    plt.xlim(xx1.min(), xx1.max())\\n    plt.ylim(xx2.min(), xx2.max())\\n\\n    # plot class samples\\n    for idx, cl in enumerate(np.unique(y)):\\n        plt.scatter(x=X[y == cl, 0], y=X[y == cl, 1],\\n                    alpha=0.8, c=cmap(idx),\\n                    edgecolor='black',\\n                    marker = markers[idx], \\n                    label=cl)\\n\\nplot_decision_regions(dataf, targets, classifier = asd)\\nplt.xlabel('X')\\nplt.ylabel('Y')\\nplt.legend(loc='upper left')\\n\""
            ],
            "application/vnd.google.colaboratory.intrinsic+json": {
              "type": "string"
            }
          },
          "metadata": {},
          "execution_count": 13
        }
      ]
    },
    {
      "cell_type": "markdown",
      "source": [
        "## Problem 2\n",
        "Create your own small dataset (at least 10 examples) that isnotlinearlyseperable. Now train a perceptron model. Did the algorithm converge?Provide evidence. Now measure the accuracy of your model on the trainingset and comment on the result."
      ],
      "metadata": {
        "id": "sSethLvolp8d"
      }
    },
    {
      "cell_type": "code",
      "source": [
        "dataset2no = [[8.400293529,2.550537003,0],\n",
        "\t[7.627531214, 1.465489372,0],\n",
        "\t[6.396561688,2.362125076,0],\n",
        "\t[8.675418651,1.38807019,0],\n",
        "\t[7.332441248,3.005305973,0]]\n",
        "\t\n",
        "dataset2yes = [[9.77106367,2.759262235,1],\n",
        "\t[8.7810836,2.088626775,1],\n",
        "\t[6.922596716,1.77106367,1],\n",
        "\t[9.242068655,3.06407232,1],\n",
        "\t[7.673756466,3.508563011,1]]"
      ],
      "metadata": {
        "id": "CKXgt1Kil6vy"
      },
      "execution_count": null,
      "outputs": []
    },
    {
      "cell_type": "code",
      "source": [
        "#dataf2no = pd.DataFrame(data=dataset2no)\n",
        "#plot2 = plt.scatter(dataf2no[0], dataf2no[1])"
      ],
      "metadata": {
        "id": "9h66PkJCm_Pt"
      },
      "execution_count": null,
      "outputs": []
    },
    {
      "cell_type": "code",
      "source": [
        "#dataf2yes = pd.DataFrame(data=dataset2yes)\n",
        "#plot2 = plt.scatter(dataf2yes[0], dataf2yes[1])"
      ],
      "metadata": {
        "id": "HlFPYqN8nFP_"
      },
      "execution_count": null,
      "outputs": []
    },
    {
      "cell_type": "code",
      "source": [
        "dataset2 = [[8.400293529,2.550537003,0],\n",
        "\t[7.627531214, 1.465489372,0],\n",
        "\t[6.396561688,2.362125076,0],\n",
        "\t[8.675418651,1.38807019,0],\n",
        "\t[7.332441248,3.005305973,0],\n",
        "\t[9.77106367,2.759262235,1],\n",
        "\t[8.7810836,2.088626775,1],\n",
        "\t[6.922596716,1.77106367,1],\n",
        "\t[9.242068655,3.06407232,1],\n",
        "\t[7.673756466,3.508563011,1]]\n",
        "\n",
        "dataf2 = pd.DataFrame(data=dataset2)"
      ],
      "metadata": {
        "id": "xNw-kynkn3aw"
      },
      "execution_count": null,
      "outputs": []
    },
    {
      "cell_type": "code",
      "source": [
        "# select setosa and versicolor\n",
        "y2 = dataf2.iloc[0:10, 2].values\n",
        "\n",
        "\n",
        "# extract sepal length and petal length\n",
        "X2 = dataf2.iloc[0:10, [0, 1]].values\n",
        "\n",
        "# plot data\n",
        "plt.scatter(X[0:5, 0], X[0:5, 1],\n",
        "            color='red', marker='o', label='0')\n",
        "plt.scatter(X[5:10, 0], X[5:10, 1],\n",
        "            color='blue', marker='x', label='1')\n",
        "\n",
        "plt.xlabel('x axis')\n",
        "plt.ylabel('y axis')\n",
        "plt.legend(loc='upper left')\n",
        "\n",
        "plt.tight_layout()\n",
        "#plt.savefig('./images/02_06.png', dpi=300)\n",
        "plt.show()"
      ],
      "metadata": {
        "colab": {
          "base_uri": "https://localhost:8080/",
          "height": 297
        },
        "id": "gILNmjkmYIRF",
        "outputId": "85949867-5dfc-4829-c01b-d81dc9f01150"
      },
      "execution_count": null,
      "outputs": [
        {
          "output_type": "display_data",
          "data": {
            "text/plain": [
              "<Figure size 432x288 with 1 Axes>"
            ],
            "image/png": "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\n"
          },
          "metadata": {
            "needs_background": "light"
          }
        }
      ]
    },
    {
      "cell_type": "code",
      "source": [
        "x1_non = np.array(dataf2[0])\n",
        "x2_non = np.array(dataf2[1])\n",
        "targets_non  = np.array(dataf2[2])\n",
        "#x1_non"
      ],
      "metadata": {
        "id": "41dfFnOMoEuO"
      },
      "execution_count": null,
      "outputs": []
    },
    {
      "cell_type": "code",
      "source": [
        "#initialize weights as 0\n",
        "weights_non = [0.0, 0.0, 0.0]\n",
        "\n",
        "#initialize number of iterations\n",
        "  #the amount of times the weight updating loops \n",
        "n_iter_non = 25\n",
        "\n",
        "#initialize learning rate\n",
        "  #smaller learning rate so it doesnt overshoot\n",
        "n_learn_non = 0.01\n",
        "\n",
        "#for every iteration\n",
        "  #for every index of each array (10 values)\n",
        "    #get z = net input of dot product of weights and predictors\n",
        "      ### weight[0] = bias, therefore for index weight[1] is associated with predictor x1, weight[2] with x2\n",
        "      #pass z through activation function\n",
        "        #if z >= 0, classify 1\n",
        "          #else classify 0\n",
        "        #append these values to a list (predict = [])\n",
        "          ###use this list to compare to actual outcomes from dataset\n",
        "      #get error by target value at index i - predicted value at index i\n",
        "        ### if no error, 1-1 = 0 or 0-0 = 0, then no change in weight\n",
        "        ### if misclassified 1-0 = 1 or 0-1 = -1, then update weights accordingly\n",
        "      #update weights\n",
        "        # weights[0] = bias, weights[0] + (learning rate * error)\n",
        "        # weights[1,2], weights[1,2] + learning rate * error * x1,x2[current value at index i]\n",
        "  #go to next values at next index and repeat\n",
        "#repeat whole cycle n amount of times to get more accurate weights\n",
        "err_in_iter_non = []     \n",
        "for iter_non in range(n_iter_non):\n",
        "  #print(\"iteration: \" + str(iter_non))\n",
        "  predict_non = []\n",
        "  amt_err_non = 0.0\n",
        "  for i in range(len(x1_non)):\n",
        "    #print(\"index: \" + str(i))\n",
        "    #print(x1_non[i])\n",
        "    #print(x2_non[i])\n",
        "    #print(\"weight 0: \" + str(weights_non[0]))\n",
        "    #print(\"weight 1: \" + str(weights_non[1]))\n",
        "    #print(\"weight 2: \" + str(weights_non[2]))\n",
        "    z_non = (weights_non[0] + (weights_non[1] * x1_non[i]) + (weights_non[2] * x2_non[i]))\n",
        "    #print(\"z = \" + str(z_non))\n",
        "    if z_non >= 0.0:\n",
        "      predict_non.append(1)\n",
        "    else:\n",
        "      predict_non.append(0)\n",
        "    #print(predict_non)\n",
        "    error_non = targets_non[i] - predict_non[i]\n",
        "    #print(\"error: \" + str(error_non))\n",
        "    amt_err_non += error_non**2\n",
        "    weights_non[0] += (n_learn * error_non)\n",
        "    #print(\"updated weight 0 : \" + str(weights_non[0]))\n",
        "    weights_non[1] = weights_non[1] + (n_learn * error_non * x1_non[i])\n",
        "    #print(\"updated weight 1: \" + str(weights_non[1]))\n",
        "    weights_non[2] = weights_non[2] + (n_learn * error_non * x2_non[i])\n",
        "    #print(\"updated weight 2: \" + str(weights_non[2]))\n",
        "  err_in_iter_non.append(amt_err_non)\n"
      ],
      "metadata": {
        "id": "tGYdJPutocq9"
      },
      "execution_count": null,
      "outputs": []
    },
    {
      "cell_type": "code",
      "source": [
        "plt.plot(range(1, len(err_in_iter_non) + 1), err_in_iter_non, marker='o')\n",
        "plt.xlabel('iterations')\n",
        "plt.ylabel('Number of updates')\n",
        "\n",
        "plt.tight_layout()\n",
        "# plt.savefig('./perceptron_1.png', dpi=300)\n",
        "plt.show()"
      ],
      "metadata": {
        "colab": {
          "base_uri": "https://localhost:8080/",
          "height": 297
        },
        "id": "WIia26S6X9Zw",
        "outputId": "153aa5b2-50f4-411b-fa3e-1bde7606c38b"
      },
      "execution_count": null,
      "outputs": [
        {
          "output_type": "display_data",
          "data": {
            "text/plain": [
              "<Figure size 432x288 with 1 Axes>"
            ],
            "image/png": "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\n"
          },
          "metadata": {
            "needs_background": "light"
          }
        }
      ]
    },
    {
      "cell_type": "code",
      "source": [
        "print(\"updated weights: \" + str(weights_non))\n",
        "print(\"predictions: \" + str(predict_non))\n",
        "print(\"Actual: \" + str(targets_non))\n",
        "print(\"Model accuracy: \" + str(((predict_non == targets_non).sum()) / targets_non.shape[0] * 100) + \"%\")\n",
        "print(\"Number of errors per iteration: \" + str(err_in_iter_non))"
      ],
      "metadata": {
        "colab": {
          "base_uri": "https://localhost:8080/"
        },
        "id": "Kk8AOdcBpBkm",
        "outputId": "10ad50ef-c143-4676-978f-3321555d526f"
      },
      "execution_count": null,
      "outputs": [
        {
          "output_type": "stream",
          "name": "stdout",
          "text": [
            "updated weights: [-0.04, 0.03759128668999984, -0.006438266879999998]\n",
            "predictions: [1, 1, 0, 0, 0, 0, 1, 1, 1, 1]\n",
            "Actual: [0 0 0 0 0 1 1 1 1 1]\n",
            "Model accuracy: 70.0%\n",
            "Number of errors per iteration: [2.0, 2.0, 2.0, 2.0, 2.0, 2.0, 2.0, 3.0, 2.0, 2.0, 2.0, 2.0, 2.0, 3.0, 2.0, 2.0, 2.0, 2.0, 3.0, 2.0, 2.0, 2.0, 2.0, 2.0, 3.0]\n"
          ]
        }
      ]
    },
    {
      "cell_type": "markdown",
      "source": [
        "## Problem 3\n",
        "Download the Titanic dataset and randomly split it into training (70%) andtest (30%) sets. Train an adaline model using the training data. Evaluate iton (a)trainingdata; (b)testdata. Is there a difference in performance?Please report your performance and explain the difference. You are free touse either the SGD or the batch version of adaline."
      ],
      "metadata": {
        "id": "r9FOUeVXqjSP"
      }
    },
    {
      "cell_type": "code",
      "source": [
        "#USE FOR PYTHON SCRIPT ONLY\n",
        "'''\n",
        "a = open('/Users/melchorronquillo/Desktop/Files/Data/titanic/train.csv')\n",
        "train = pd.read_csv(a, sep = ',')\n",
        "train\n",
        "'''"
      ],
      "metadata": {
        "colab": {
          "base_uri": "https://localhost:8080/",
          "height": 54
        },
        "id": "ZSeQd6FpQKeX",
        "outputId": "c8ca5c9d-296d-4203-8512-3343f0fca304"
      },
      "execution_count": null,
      "outputs": [
        {
          "output_type": "execute_result",
          "data": {
            "text/plain": [
              "\"\\na = open('/Users/melchorronquillo/Desktop/Files/Data/titanic/train.csv')\\ntrain = pd.read_csv(a, sep = ',')\\ntrain\\n\""
            ],
            "application/vnd.google.colaboratory.intrinsic+json": {
              "type": "string"
            }
          },
          "metadata": {},
          "execution_count": 158
        }
      ]
    },
    {
      "cell_type": "code",
      "source": [
        "#USE FOR GOOGLE COLAB ONLY\n",
        "train = pd.read_csv(\"/content/train.csv\", sep = ',')\n",
        "train"
      ],
      "metadata": {
        "id": "woasbfZsrGN4",
        "colab": {
          "base_uri": "https://localhost:8080/",
          "height": 565
        },
        "outputId": "53f695bd-a3fe-4460-a1da-039dbd3fd4fa"
      },
      "execution_count": null,
      "outputs": [
        {
          "output_type": "execute_result",
          "data": {
            "text/plain": [
              "     PassengerId  Survived  Pclass  \\\n",
              "0              1         0       3   \n",
              "1              2         1       1   \n",
              "2              3         1       3   \n",
              "3              4         1       1   \n",
              "4              5         0       3   \n",
              "..           ...       ...     ...   \n",
              "886          887         0       2   \n",
              "887          888         1       1   \n",
              "888          889         0       3   \n",
              "889          890         1       1   \n",
              "890          891         0       3   \n",
              "\n",
              "                                                  Name     Sex   Age  SibSp  \\\n",
              "0                              Braund, Mr. Owen Harris    male  22.0      1   \n",
              "1    Cumings, Mrs. John Bradley (Florence Briggs Th...  female  38.0      1   \n",
              "2                               Heikkinen, Miss. Laina  female  26.0      0   \n",
              "3         Futrelle, Mrs. Jacques Heath (Lily May Peel)  female  35.0      1   \n",
              "4                             Allen, Mr. William Henry    male  35.0      0   \n",
              "..                                                 ...     ...   ...    ...   \n",
              "886                              Montvila, Rev. Juozas    male  27.0      0   \n",
              "887                       Graham, Miss. Margaret Edith  female  19.0      0   \n",
              "888           Johnston, Miss. Catherine Helen \"Carrie\"  female   NaN      1   \n",
              "889                              Behr, Mr. Karl Howell    male  26.0      0   \n",
              "890                                Dooley, Mr. Patrick    male  32.0      0   \n",
              "\n",
              "     Parch            Ticket     Fare Cabin Embarked  \n",
              "0        0         A/5 21171   7.2500   NaN        S  \n",
              "1        0          PC 17599  71.2833   C85        C  \n",
              "2        0  STON/O2. 3101282   7.9250   NaN        S  \n",
              "3        0            113803  53.1000  C123        S  \n",
              "4        0            373450   8.0500   NaN        S  \n",
              "..     ...               ...      ...   ...      ...  \n",
              "886      0            211536  13.0000   NaN        S  \n",
              "887      0            112053  30.0000   B42        S  \n",
              "888      2        W./C. 6607  23.4500   NaN        S  \n",
              "889      0            111369  30.0000  C148        C  \n",
              "890      0            370376   7.7500   NaN        Q  \n",
              "\n",
              "[891 rows x 12 columns]"
            ],
            "text/html": [
              "\n",
              "  <div id=\"df-288fd887-8859-4a32-8e13-a9c1499d7eb2\">\n",
              "    <div class=\"colab-df-container\">\n",
              "      <div>\n",
              "<style scoped>\n",
              "    .dataframe tbody tr th:only-of-type {\n",
              "        vertical-align: middle;\n",
              "    }\n",
              "\n",
              "    .dataframe tbody tr th {\n",
              "        vertical-align: top;\n",
              "    }\n",
              "\n",
              "    .dataframe thead th {\n",
              "        text-align: right;\n",
              "    }\n",
              "</style>\n",
              "<table border=\"1\" class=\"dataframe\">\n",
              "  <thead>\n",
              "    <tr style=\"text-align: right;\">\n",
              "      <th></th>\n",
              "      <th>PassengerId</th>\n",
              "      <th>Survived</th>\n",
              "      <th>Pclass</th>\n",
              "      <th>Name</th>\n",
              "      <th>Sex</th>\n",
              "      <th>Age</th>\n",
              "      <th>SibSp</th>\n",
              "      <th>Parch</th>\n",
              "      <th>Ticket</th>\n",
              "      <th>Fare</th>\n",
              "      <th>Cabin</th>\n",
              "      <th>Embarked</th>\n",
              "    </tr>\n",
              "  </thead>\n",
              "  <tbody>\n",
              "    <tr>\n",
              "      <th>0</th>\n",
              "      <td>1</td>\n",
              "      <td>0</td>\n",
              "      <td>3</td>\n",
              "      <td>Braund, Mr. Owen Harris</td>\n",
              "      <td>male</td>\n",
              "      <td>22.0</td>\n",
              "      <td>1</td>\n",
              "      <td>0</td>\n",
              "      <td>A/5 21171</td>\n",
              "      <td>7.2500</td>\n",
              "      <td>NaN</td>\n",
              "      <td>S</td>\n",
              "    </tr>\n",
              "    <tr>\n",
              "      <th>1</th>\n",
              "      <td>2</td>\n",
              "      <td>1</td>\n",
              "      <td>1</td>\n",
              "      <td>Cumings, Mrs. John Bradley (Florence Briggs Th...</td>\n",
              "      <td>female</td>\n",
              "      <td>38.0</td>\n",
              "      <td>1</td>\n",
              "      <td>0</td>\n",
              "      <td>PC 17599</td>\n",
              "      <td>71.2833</td>\n",
              "      <td>C85</td>\n",
              "      <td>C</td>\n",
              "    </tr>\n",
              "    <tr>\n",
              "      <th>2</th>\n",
              "      <td>3</td>\n",
              "      <td>1</td>\n",
              "      <td>3</td>\n",
              "      <td>Heikkinen, Miss. Laina</td>\n",
              "      <td>female</td>\n",
              "      <td>26.0</td>\n",
              "      <td>0</td>\n",
              "      <td>0</td>\n",
              "      <td>STON/O2. 3101282</td>\n",
              "      <td>7.9250</td>\n",
              "      <td>NaN</td>\n",
              "      <td>S</td>\n",
              "    </tr>\n",
              "    <tr>\n",
              "      <th>3</th>\n",
              "      <td>4</td>\n",
              "      <td>1</td>\n",
              "      <td>1</td>\n",
              "      <td>Futrelle, Mrs. Jacques Heath (Lily May Peel)</td>\n",
              "      <td>female</td>\n",
              "      <td>35.0</td>\n",
              "      <td>1</td>\n",
              "      <td>0</td>\n",
              "      <td>113803</td>\n",
              "      <td>53.1000</td>\n",
              "      <td>C123</td>\n",
              "      <td>S</td>\n",
              "    </tr>\n",
              "    <tr>\n",
              "      <th>4</th>\n",
              "      <td>5</td>\n",
              "      <td>0</td>\n",
              "      <td>3</td>\n",
              "      <td>Allen, Mr. William Henry</td>\n",
              "      <td>male</td>\n",
              "      <td>35.0</td>\n",
              "      <td>0</td>\n",
              "      <td>0</td>\n",
              "      <td>373450</td>\n",
              "      <td>8.0500</td>\n",
              "      <td>NaN</td>\n",
              "      <td>S</td>\n",
              "    </tr>\n",
              "    <tr>\n",
              "      <th>...</th>\n",
              "      <td>...</td>\n",
              "      <td>...</td>\n",
              "      <td>...</td>\n",
              "      <td>...</td>\n",
              "      <td>...</td>\n",
              "      <td>...</td>\n",
              "      <td>...</td>\n",
              "      <td>...</td>\n",
              "      <td>...</td>\n",
              "      <td>...</td>\n",
              "      <td>...</td>\n",
              "      <td>...</td>\n",
              "    </tr>\n",
              "    <tr>\n",
              "      <th>886</th>\n",
              "      <td>887</td>\n",
              "      <td>0</td>\n",
              "      <td>2</td>\n",
              "      <td>Montvila, Rev. Juozas</td>\n",
              "      <td>male</td>\n",
              "      <td>27.0</td>\n",
              "      <td>0</td>\n",
              "      <td>0</td>\n",
              "      <td>211536</td>\n",
              "      <td>13.0000</td>\n",
              "      <td>NaN</td>\n",
              "      <td>S</td>\n",
              "    </tr>\n",
              "    <tr>\n",
              "      <th>887</th>\n",
              "      <td>888</td>\n",
              "      <td>1</td>\n",
              "      <td>1</td>\n",
              "      <td>Graham, Miss. Margaret Edith</td>\n",
              "      <td>female</td>\n",
              "      <td>19.0</td>\n",
              "      <td>0</td>\n",
              "      <td>0</td>\n",
              "      <td>112053</td>\n",
              "      <td>30.0000</td>\n",
              "      <td>B42</td>\n",
              "      <td>S</td>\n",
              "    </tr>\n",
              "    <tr>\n",
              "      <th>888</th>\n",
              "      <td>889</td>\n",
              "      <td>0</td>\n",
              "      <td>3</td>\n",
              "      <td>Johnston, Miss. Catherine Helen \"Carrie\"</td>\n",
              "      <td>female</td>\n",
              "      <td>NaN</td>\n",
              "      <td>1</td>\n",
              "      <td>2</td>\n",
              "      <td>W./C. 6607</td>\n",
              "      <td>23.4500</td>\n",
              "      <td>NaN</td>\n",
              "      <td>S</td>\n",
              "    </tr>\n",
              "    <tr>\n",
              "      <th>889</th>\n",
              "      <td>890</td>\n",
              "      <td>1</td>\n",
              "      <td>1</td>\n",
              "      <td>Behr, Mr. Karl Howell</td>\n",
              "      <td>male</td>\n",
              "      <td>26.0</td>\n",
              "      <td>0</td>\n",
              "      <td>0</td>\n",
              "      <td>111369</td>\n",
              "      <td>30.0000</td>\n",
              "      <td>C148</td>\n",
              "      <td>C</td>\n",
              "    </tr>\n",
              "    <tr>\n",
              "      <th>890</th>\n",
              "      <td>891</td>\n",
              "      <td>0</td>\n",
              "      <td>3</td>\n",
              "      <td>Dooley, Mr. Patrick</td>\n",
              "      <td>male</td>\n",
              "      <td>32.0</td>\n",
              "      <td>0</td>\n",
              "      <td>0</td>\n",
              "      <td>370376</td>\n",
              "      <td>7.7500</td>\n",
              "      <td>NaN</td>\n",
              "      <td>Q</td>\n",
              "    </tr>\n",
              "  </tbody>\n",
              "</table>\n",
              "<p>891 rows × 12 columns</p>\n",
              "</div>\n",
              "      <button class=\"colab-df-convert\" onclick=\"convertToInteractive('df-288fd887-8859-4a32-8e13-a9c1499d7eb2')\"\n",
              "              title=\"Convert this dataframe to an interactive table.\"\n",
              "              style=\"display:none;\">\n",
              "        \n",
              "  <svg xmlns=\"http://www.w3.org/2000/svg\" height=\"24px\"viewBox=\"0 0 24 24\"\n",
              "       width=\"24px\">\n",
              "    <path d=\"M0 0h24v24H0V0z\" fill=\"none\"/>\n",
              "    <path d=\"M18.56 5.44l.94 2.06.94-2.06 2.06-.94-2.06-.94-.94-2.06-.94 2.06-2.06.94zm-11 1L8.5 8.5l.94-2.06 2.06-.94-2.06-.94L8.5 2.5l-.94 2.06-2.06.94zm10 10l.94 2.06.94-2.06 2.06-.94-2.06-.94-.94-2.06-.94 2.06-2.06.94z\"/><path d=\"M17.41 7.96l-1.37-1.37c-.4-.4-.92-.59-1.43-.59-.52 0-1.04.2-1.43.59L10.3 9.45l-7.72 7.72c-.78.78-.78 2.05 0 2.83L4 21.41c.39.39.9.59 1.41.59.51 0 1.02-.2 1.41-.59l7.78-7.78 2.81-2.81c.8-.78.8-2.07 0-2.86zM5.41 20L4 18.59l7.72-7.72 1.47 1.35L5.41 20z\"/>\n",
              "  </svg>\n",
              "      </button>\n",
              "      \n",
              "  <style>\n",
              "    .colab-df-container {\n",
              "      display:flex;\n",
              "      flex-wrap:wrap;\n",
              "      gap: 12px;\n",
              "    }\n",
              "\n",
              "    .colab-df-convert {\n",
              "      background-color: #E8F0FE;\n",
              "      border: none;\n",
              "      border-radius: 50%;\n",
              "      cursor: pointer;\n",
              "      display: none;\n",
              "      fill: #1967D2;\n",
              "      height: 32px;\n",
              "      padding: 0 0 0 0;\n",
              "      width: 32px;\n",
              "    }\n",
              "\n",
              "    .colab-df-convert:hover {\n",
              "      background-color: #E2EBFA;\n",
              "      box-shadow: 0px 1px 2px rgba(60, 64, 67, 0.3), 0px 1px 3px 1px rgba(60, 64, 67, 0.15);\n",
              "      fill: #174EA6;\n",
              "    }\n",
              "\n",
              "    [theme=dark] .colab-df-convert {\n",
              "      background-color: #3B4455;\n",
              "      fill: #D2E3FC;\n",
              "    }\n",
              "\n",
              "    [theme=dark] .colab-df-convert:hover {\n",
              "      background-color: #434B5C;\n",
              "      box-shadow: 0px 1px 3px 1px rgba(0, 0, 0, 0.15);\n",
              "      filter: drop-shadow(0px 1px 2px rgba(0, 0, 0, 0.3));\n",
              "      fill: #FFFFFF;\n",
              "    }\n",
              "  </style>\n",
              "\n",
              "      <script>\n",
              "        const buttonEl =\n",
              "          document.querySelector('#df-288fd887-8859-4a32-8e13-a9c1499d7eb2 button.colab-df-convert');\n",
              "        buttonEl.style.display =\n",
              "          google.colab.kernel.accessAllowed ? 'block' : 'none';\n",
              "\n",
              "        async function convertToInteractive(key) {\n",
              "          const element = document.querySelector('#df-288fd887-8859-4a32-8e13-a9c1499d7eb2');\n",
              "          const dataTable =\n",
              "            await google.colab.kernel.invokeFunction('convertToInteractive',\n",
              "                                                     [key], {});\n",
              "          if (!dataTable) return;\n",
              "\n",
              "          const docLinkHtml = 'Like what you see? Visit the ' +\n",
              "            '<a target=\"_blank\" href=https://colab.research.google.com/notebooks/data_table.ipynb>data table notebook</a>'\n",
              "            + ' to learn more about interactive tables.';\n",
              "          element.innerHTML = '';\n",
              "          dataTable['output_type'] = 'display_data';\n",
              "          await google.colab.output.renderOutput(dataTable, element);\n",
              "          const docLink = document.createElement('div');\n",
              "          docLink.innerHTML = docLinkHtml;\n",
              "          element.appendChild(docLink);\n",
              "        }\n",
              "      </script>\n",
              "    </div>\n",
              "  </div>\n",
              "  "
            ]
          },
          "metadata": {},
          "execution_count": 196
        }
      ]
    },
    {
      "cell_type": "code",
      "source": [
        "gender = pd.get_dummies(train['Sex'])\n",
        "gender\n",
        "train = pd.concat((train, gender), axis=1)\n",
        "train = train.drop([\"Sex\"], axis=1)\n",
        "train = train.drop([\"male\"], axis=1)\n",
        "train = train.rename(columns={\"female\": \"Sex\"})\n",
        "#train\n"
      ],
      "metadata": {
        "id": "QCAAfmVdrdmX"
      },
      "execution_count": null,
      "outputs": []
    },
    {
      "cell_type": "code",
      "source": [
        "\n",
        "train = train[['Pclass','Sex', 'Age', 'SibSp', 'Parch', 'Fare', 'Survived']]\n",
        "train"
      ],
      "metadata": {
        "colab": {
          "base_uri": "https://localhost:8080/",
          "height": 419
        },
        "id": "My_Ds3o6rozM",
        "outputId": "4cf7470f-3889-4bb1-9db3-5199516363eb"
      },
      "execution_count": null,
      "outputs": [
        {
          "output_type": "execute_result",
          "data": {
            "text/plain": [
              "     Pclass  Sex   Age  SibSp  Parch     Fare  Survived\n",
              "0         3    0  22.0      1      0   7.2500         0\n",
              "1         1    1  38.0      1      0  71.2833         1\n",
              "2         3    1  26.0      0      0   7.9250         1\n",
              "3         1    1  35.0      1      0  53.1000         1\n",
              "4         3    0  35.0      0      0   8.0500         0\n",
              "..      ...  ...   ...    ...    ...      ...       ...\n",
              "886       2    0  27.0      0      0  13.0000         0\n",
              "887       1    1  19.0      0      0  30.0000         1\n",
              "888       3    1   NaN      1      2  23.4500         0\n",
              "889       1    0  26.0      0      0  30.0000         1\n",
              "890       3    0  32.0      0      0   7.7500         0\n",
              "\n",
              "[891 rows x 7 columns]"
            ],
            "text/html": [
              "\n",
              "  <div id=\"df-0cff56a2-b388-413c-9d70-35b2a2a30007\">\n",
              "    <div class=\"colab-df-container\">\n",
              "      <div>\n",
              "<style scoped>\n",
              "    .dataframe tbody tr th:only-of-type {\n",
              "        vertical-align: middle;\n",
              "    }\n",
              "\n",
              "    .dataframe tbody tr th {\n",
              "        vertical-align: top;\n",
              "    }\n",
              "\n",
              "    .dataframe thead th {\n",
              "        text-align: right;\n",
              "    }\n",
              "</style>\n",
              "<table border=\"1\" class=\"dataframe\">\n",
              "  <thead>\n",
              "    <tr style=\"text-align: right;\">\n",
              "      <th></th>\n",
              "      <th>Pclass</th>\n",
              "      <th>Sex</th>\n",
              "      <th>Age</th>\n",
              "      <th>SibSp</th>\n",
              "      <th>Parch</th>\n",
              "      <th>Fare</th>\n",
              "      <th>Survived</th>\n",
              "    </tr>\n",
              "  </thead>\n",
              "  <tbody>\n",
              "    <tr>\n",
              "      <th>0</th>\n",
              "      <td>3</td>\n",
              "      <td>0</td>\n",
              "      <td>22.0</td>\n",
              "      <td>1</td>\n",
              "      <td>0</td>\n",
              "      <td>7.2500</td>\n",
              "      <td>0</td>\n",
              "    </tr>\n",
              "    <tr>\n",
              "      <th>1</th>\n",
              "      <td>1</td>\n",
              "      <td>1</td>\n",
              "      <td>38.0</td>\n",
              "      <td>1</td>\n",
              "      <td>0</td>\n",
              "      <td>71.2833</td>\n",
              "      <td>1</td>\n",
              "    </tr>\n",
              "    <tr>\n",
              "      <th>2</th>\n",
              "      <td>3</td>\n",
              "      <td>1</td>\n",
              "      <td>26.0</td>\n",
              "      <td>0</td>\n",
              "      <td>0</td>\n",
              "      <td>7.9250</td>\n",
              "      <td>1</td>\n",
              "    </tr>\n",
              "    <tr>\n",
              "      <th>3</th>\n",
              "      <td>1</td>\n",
              "      <td>1</td>\n",
              "      <td>35.0</td>\n",
              "      <td>1</td>\n",
              "      <td>0</td>\n",
              "      <td>53.1000</td>\n",
              "      <td>1</td>\n",
              "    </tr>\n",
              "    <tr>\n",
              "      <th>4</th>\n",
              "      <td>3</td>\n",
              "      <td>0</td>\n",
              "      <td>35.0</td>\n",
              "      <td>0</td>\n",
              "      <td>0</td>\n",
              "      <td>8.0500</td>\n",
              "      <td>0</td>\n",
              "    </tr>\n",
              "    <tr>\n",
              "      <th>...</th>\n",
              "      <td>...</td>\n",
              "      <td>...</td>\n",
              "      <td>...</td>\n",
              "      <td>...</td>\n",
              "      <td>...</td>\n",
              "      <td>...</td>\n",
              "      <td>...</td>\n",
              "    </tr>\n",
              "    <tr>\n",
              "      <th>886</th>\n",
              "      <td>2</td>\n",
              "      <td>0</td>\n",
              "      <td>27.0</td>\n",
              "      <td>0</td>\n",
              "      <td>0</td>\n",
              "      <td>13.0000</td>\n",
              "      <td>0</td>\n",
              "    </tr>\n",
              "    <tr>\n",
              "      <th>887</th>\n",
              "      <td>1</td>\n",
              "      <td>1</td>\n",
              "      <td>19.0</td>\n",
              "      <td>0</td>\n",
              "      <td>0</td>\n",
              "      <td>30.0000</td>\n",
              "      <td>1</td>\n",
              "    </tr>\n",
              "    <tr>\n",
              "      <th>888</th>\n",
              "      <td>3</td>\n",
              "      <td>1</td>\n",
              "      <td>NaN</td>\n",
              "      <td>1</td>\n",
              "      <td>2</td>\n",
              "      <td>23.4500</td>\n",
              "      <td>0</td>\n",
              "    </tr>\n",
              "    <tr>\n",
              "      <th>889</th>\n",
              "      <td>1</td>\n",
              "      <td>0</td>\n",
              "      <td>26.0</td>\n",
              "      <td>0</td>\n",
              "      <td>0</td>\n",
              "      <td>30.0000</td>\n",
              "      <td>1</td>\n",
              "    </tr>\n",
              "    <tr>\n",
              "      <th>890</th>\n",
              "      <td>3</td>\n",
              "      <td>0</td>\n",
              "      <td>32.0</td>\n",
              "      <td>0</td>\n",
              "      <td>0</td>\n",
              "      <td>7.7500</td>\n",
              "      <td>0</td>\n",
              "    </tr>\n",
              "  </tbody>\n",
              "</table>\n",
              "<p>891 rows × 7 columns</p>\n",
              "</div>\n",
              "      <button class=\"colab-df-convert\" onclick=\"convertToInteractive('df-0cff56a2-b388-413c-9d70-35b2a2a30007')\"\n",
              "              title=\"Convert this dataframe to an interactive table.\"\n",
              "              style=\"display:none;\">\n",
              "        \n",
              "  <svg xmlns=\"http://www.w3.org/2000/svg\" height=\"24px\"viewBox=\"0 0 24 24\"\n",
              "       width=\"24px\">\n",
              "    <path d=\"M0 0h24v24H0V0z\" fill=\"none\"/>\n",
              "    <path d=\"M18.56 5.44l.94 2.06.94-2.06 2.06-.94-2.06-.94-.94-2.06-.94 2.06-2.06.94zm-11 1L8.5 8.5l.94-2.06 2.06-.94-2.06-.94L8.5 2.5l-.94 2.06-2.06.94zm10 10l.94 2.06.94-2.06 2.06-.94-2.06-.94-.94-2.06-.94 2.06-2.06.94z\"/><path d=\"M17.41 7.96l-1.37-1.37c-.4-.4-.92-.59-1.43-.59-.52 0-1.04.2-1.43.59L10.3 9.45l-7.72 7.72c-.78.78-.78 2.05 0 2.83L4 21.41c.39.39.9.59 1.41.59.51 0 1.02-.2 1.41-.59l7.78-7.78 2.81-2.81c.8-.78.8-2.07 0-2.86zM5.41 20L4 18.59l7.72-7.72 1.47 1.35L5.41 20z\"/>\n",
              "  </svg>\n",
              "      </button>\n",
              "      \n",
              "  <style>\n",
              "    .colab-df-container {\n",
              "      display:flex;\n",
              "      flex-wrap:wrap;\n",
              "      gap: 12px;\n",
              "    }\n",
              "\n",
              "    .colab-df-convert {\n",
              "      background-color: #E8F0FE;\n",
              "      border: none;\n",
              "      border-radius: 50%;\n",
              "      cursor: pointer;\n",
              "      display: none;\n",
              "      fill: #1967D2;\n",
              "      height: 32px;\n",
              "      padding: 0 0 0 0;\n",
              "      width: 32px;\n",
              "    }\n",
              "\n",
              "    .colab-df-convert:hover {\n",
              "      background-color: #E2EBFA;\n",
              "      box-shadow: 0px 1px 2px rgba(60, 64, 67, 0.3), 0px 1px 3px 1px rgba(60, 64, 67, 0.15);\n",
              "      fill: #174EA6;\n",
              "    }\n",
              "\n",
              "    [theme=dark] .colab-df-convert {\n",
              "      background-color: #3B4455;\n",
              "      fill: #D2E3FC;\n",
              "    }\n",
              "\n",
              "    [theme=dark] .colab-df-convert:hover {\n",
              "      background-color: #434B5C;\n",
              "      box-shadow: 0px 1px 3px 1px rgba(0, 0, 0, 0.15);\n",
              "      filter: drop-shadow(0px 1px 2px rgba(0, 0, 0, 0.3));\n",
              "      fill: #FFFFFF;\n",
              "    }\n",
              "  </style>\n",
              "\n",
              "      <script>\n",
              "        const buttonEl =\n",
              "          document.querySelector('#df-0cff56a2-b388-413c-9d70-35b2a2a30007 button.colab-df-convert');\n",
              "        buttonEl.style.display =\n",
              "          google.colab.kernel.accessAllowed ? 'block' : 'none';\n",
              "\n",
              "        async function convertToInteractive(key) {\n",
              "          const element = document.querySelector('#df-0cff56a2-b388-413c-9d70-35b2a2a30007');\n",
              "          const dataTable =\n",
              "            await google.colab.kernel.invokeFunction('convertToInteractive',\n",
              "                                                     [key], {});\n",
              "          if (!dataTable) return;\n",
              "\n",
              "          const docLinkHtml = 'Like what you see? Visit the ' +\n",
              "            '<a target=\"_blank\" href=https://colab.research.google.com/notebooks/data_table.ipynb>data table notebook</a>'\n",
              "            + ' to learn more about interactive tables.';\n",
              "          element.innerHTML = '';\n",
              "          dataTable['output_type'] = 'display_data';\n",
              "          await google.colab.output.renderOutput(dataTable, element);\n",
              "          const docLink = document.createElement('div');\n",
              "          docLink.innerHTML = docLinkHtml;\n",
              "          element.appendChild(docLink);\n",
              "        }\n",
              "      </script>\n",
              "    </div>\n",
              "  </div>\n",
              "  "
            ]
          },
          "metadata": {},
          "execution_count": 198
        }
      ]
    },
    {
      "cell_type": "code",
      "source": [
        "train = train.dropna()\n",
        "train"
      ],
      "metadata": {
        "id": "AoFn-uUpr1GT",
        "colab": {
          "base_uri": "https://localhost:8080/",
          "height": 419
        },
        "outputId": "90b3e355-7400-4187-d284-b00e04bd81a3"
      },
      "execution_count": null,
      "outputs": [
        {
          "output_type": "execute_result",
          "data": {
            "text/plain": [
              "     Pclass  Sex   Age  SibSp  Parch     Fare  Survived\n",
              "0         3    0  22.0      1      0   7.2500         0\n",
              "1         1    1  38.0      1      0  71.2833         1\n",
              "2         3    1  26.0      0      0   7.9250         1\n",
              "3         1    1  35.0      1      0  53.1000         1\n",
              "4         3    0  35.0      0      0   8.0500         0\n",
              "..      ...  ...   ...    ...    ...      ...       ...\n",
              "885       3    1  39.0      0      5  29.1250         0\n",
              "886       2    0  27.0      0      0  13.0000         0\n",
              "887       1    1  19.0      0      0  30.0000         1\n",
              "889       1    0  26.0      0      0  30.0000         1\n",
              "890       3    0  32.0      0      0   7.7500         0\n",
              "\n",
              "[714 rows x 7 columns]"
            ],
            "text/html": [
              "\n",
              "  <div id=\"df-94c00751-e951-407f-96d0-d02e72b1489d\">\n",
              "    <div class=\"colab-df-container\">\n",
              "      <div>\n",
              "<style scoped>\n",
              "    .dataframe tbody tr th:only-of-type {\n",
              "        vertical-align: middle;\n",
              "    }\n",
              "\n",
              "    .dataframe tbody tr th {\n",
              "        vertical-align: top;\n",
              "    }\n",
              "\n",
              "    .dataframe thead th {\n",
              "        text-align: right;\n",
              "    }\n",
              "</style>\n",
              "<table border=\"1\" class=\"dataframe\">\n",
              "  <thead>\n",
              "    <tr style=\"text-align: right;\">\n",
              "      <th></th>\n",
              "      <th>Pclass</th>\n",
              "      <th>Sex</th>\n",
              "      <th>Age</th>\n",
              "      <th>SibSp</th>\n",
              "      <th>Parch</th>\n",
              "      <th>Fare</th>\n",
              "      <th>Survived</th>\n",
              "    </tr>\n",
              "  </thead>\n",
              "  <tbody>\n",
              "    <tr>\n",
              "      <th>0</th>\n",
              "      <td>3</td>\n",
              "      <td>0</td>\n",
              "      <td>22.0</td>\n",
              "      <td>1</td>\n",
              "      <td>0</td>\n",
              "      <td>7.2500</td>\n",
              "      <td>0</td>\n",
              "    </tr>\n",
              "    <tr>\n",
              "      <th>1</th>\n",
              "      <td>1</td>\n",
              "      <td>1</td>\n",
              "      <td>38.0</td>\n",
              "      <td>1</td>\n",
              "      <td>0</td>\n",
              "      <td>71.2833</td>\n",
              "      <td>1</td>\n",
              "    </tr>\n",
              "    <tr>\n",
              "      <th>2</th>\n",
              "      <td>3</td>\n",
              "      <td>1</td>\n",
              "      <td>26.0</td>\n",
              "      <td>0</td>\n",
              "      <td>0</td>\n",
              "      <td>7.9250</td>\n",
              "      <td>1</td>\n",
              "    </tr>\n",
              "    <tr>\n",
              "      <th>3</th>\n",
              "      <td>1</td>\n",
              "      <td>1</td>\n",
              "      <td>35.0</td>\n",
              "      <td>1</td>\n",
              "      <td>0</td>\n",
              "      <td>53.1000</td>\n",
              "      <td>1</td>\n",
              "    </tr>\n",
              "    <tr>\n",
              "      <th>4</th>\n",
              "      <td>3</td>\n",
              "      <td>0</td>\n",
              "      <td>35.0</td>\n",
              "      <td>0</td>\n",
              "      <td>0</td>\n",
              "      <td>8.0500</td>\n",
              "      <td>0</td>\n",
              "    </tr>\n",
              "    <tr>\n",
              "      <th>...</th>\n",
              "      <td>...</td>\n",
              "      <td>...</td>\n",
              "      <td>...</td>\n",
              "      <td>...</td>\n",
              "      <td>...</td>\n",
              "      <td>...</td>\n",
              "      <td>...</td>\n",
              "    </tr>\n",
              "    <tr>\n",
              "      <th>885</th>\n",
              "      <td>3</td>\n",
              "      <td>1</td>\n",
              "      <td>39.0</td>\n",
              "      <td>0</td>\n",
              "      <td>5</td>\n",
              "      <td>29.1250</td>\n",
              "      <td>0</td>\n",
              "    </tr>\n",
              "    <tr>\n",
              "      <th>886</th>\n",
              "      <td>2</td>\n",
              "      <td>0</td>\n",
              "      <td>27.0</td>\n",
              "      <td>0</td>\n",
              "      <td>0</td>\n",
              "      <td>13.0000</td>\n",
              "      <td>0</td>\n",
              "    </tr>\n",
              "    <tr>\n",
              "      <th>887</th>\n",
              "      <td>1</td>\n",
              "      <td>1</td>\n",
              "      <td>19.0</td>\n",
              "      <td>0</td>\n",
              "      <td>0</td>\n",
              "      <td>30.0000</td>\n",
              "      <td>1</td>\n",
              "    </tr>\n",
              "    <tr>\n",
              "      <th>889</th>\n",
              "      <td>1</td>\n",
              "      <td>0</td>\n",
              "      <td>26.0</td>\n",
              "      <td>0</td>\n",
              "      <td>0</td>\n",
              "      <td>30.0000</td>\n",
              "      <td>1</td>\n",
              "    </tr>\n",
              "    <tr>\n",
              "      <th>890</th>\n",
              "      <td>3</td>\n",
              "      <td>0</td>\n",
              "      <td>32.0</td>\n",
              "      <td>0</td>\n",
              "      <td>0</td>\n",
              "      <td>7.7500</td>\n",
              "      <td>0</td>\n",
              "    </tr>\n",
              "  </tbody>\n",
              "</table>\n",
              "<p>714 rows × 7 columns</p>\n",
              "</div>\n",
              "      <button class=\"colab-df-convert\" onclick=\"convertToInteractive('df-94c00751-e951-407f-96d0-d02e72b1489d')\"\n",
              "              title=\"Convert this dataframe to an interactive table.\"\n",
              "              style=\"display:none;\">\n",
              "        \n",
              "  <svg xmlns=\"http://www.w3.org/2000/svg\" height=\"24px\"viewBox=\"0 0 24 24\"\n",
              "       width=\"24px\">\n",
              "    <path d=\"M0 0h24v24H0V0z\" fill=\"none\"/>\n",
              "    <path d=\"M18.56 5.44l.94 2.06.94-2.06 2.06-.94-2.06-.94-.94-2.06-.94 2.06-2.06.94zm-11 1L8.5 8.5l.94-2.06 2.06-.94-2.06-.94L8.5 2.5l-.94 2.06-2.06.94zm10 10l.94 2.06.94-2.06 2.06-.94-2.06-.94-.94-2.06-.94 2.06-2.06.94z\"/><path d=\"M17.41 7.96l-1.37-1.37c-.4-.4-.92-.59-1.43-.59-.52 0-1.04.2-1.43.59L10.3 9.45l-7.72 7.72c-.78.78-.78 2.05 0 2.83L4 21.41c.39.39.9.59 1.41.59.51 0 1.02-.2 1.41-.59l7.78-7.78 2.81-2.81c.8-.78.8-2.07 0-2.86zM5.41 20L4 18.59l7.72-7.72 1.47 1.35L5.41 20z\"/>\n",
              "  </svg>\n",
              "      </button>\n",
              "      \n",
              "  <style>\n",
              "    .colab-df-container {\n",
              "      display:flex;\n",
              "      flex-wrap:wrap;\n",
              "      gap: 12px;\n",
              "    }\n",
              "\n",
              "    .colab-df-convert {\n",
              "      background-color: #E8F0FE;\n",
              "      border: none;\n",
              "      border-radius: 50%;\n",
              "      cursor: pointer;\n",
              "      display: none;\n",
              "      fill: #1967D2;\n",
              "      height: 32px;\n",
              "      padding: 0 0 0 0;\n",
              "      width: 32px;\n",
              "    }\n",
              "\n",
              "    .colab-df-convert:hover {\n",
              "      background-color: #E2EBFA;\n",
              "      box-shadow: 0px 1px 2px rgba(60, 64, 67, 0.3), 0px 1px 3px 1px rgba(60, 64, 67, 0.15);\n",
              "      fill: #174EA6;\n",
              "    }\n",
              "\n",
              "    [theme=dark] .colab-df-convert {\n",
              "      background-color: #3B4455;\n",
              "      fill: #D2E3FC;\n",
              "    }\n",
              "\n",
              "    [theme=dark] .colab-df-convert:hover {\n",
              "      background-color: #434B5C;\n",
              "      box-shadow: 0px 1px 3px 1px rgba(0, 0, 0, 0.15);\n",
              "      filter: drop-shadow(0px 1px 2px rgba(0, 0, 0, 0.3));\n",
              "      fill: #FFFFFF;\n",
              "    }\n",
              "  </style>\n",
              "\n",
              "      <script>\n",
              "        const buttonEl =\n",
              "          document.querySelector('#df-94c00751-e951-407f-96d0-d02e72b1489d button.colab-df-convert');\n",
              "        buttonEl.style.display =\n",
              "          google.colab.kernel.accessAllowed ? 'block' : 'none';\n",
              "\n",
              "        async function convertToInteractive(key) {\n",
              "          const element = document.querySelector('#df-94c00751-e951-407f-96d0-d02e72b1489d');\n",
              "          const dataTable =\n",
              "            await google.colab.kernel.invokeFunction('convertToInteractive',\n",
              "                                                     [key], {});\n",
              "          if (!dataTable) return;\n",
              "\n",
              "          const docLinkHtml = 'Like what you see? Visit the ' +\n",
              "            '<a target=\"_blank\" href=https://colab.research.google.com/notebooks/data_table.ipynb>data table notebook</a>'\n",
              "            + ' to learn more about interactive tables.';\n",
              "          element.innerHTML = '';\n",
              "          dataTable['output_type'] = 'display_data';\n",
              "          await google.colab.output.renderOutput(dataTable, element);\n",
              "          const docLink = document.createElement('div');\n",
              "          docLink.innerHTML = docLinkHtml;\n",
              "          element.appendChild(docLink);\n",
              "        }\n",
              "      </script>\n",
              "    </div>\n",
              "  </div>\n",
              "  "
            ]
          },
          "metadata": {},
          "execution_count": 267
        }
      ]
    },
    {
      "cell_type": "code",
      "source": [
        "from numpy.random import seed\n",
        "\n",
        "class AdalineSGD(object):\n",
        "    \"\"\"ADAptive LInear NEuron classifier.\n",
        "\n",
        "    Parameters\n",
        "    ------------\n",
        "    eta : float\n",
        "        Learning rate (between 0.0 and 1.0)\n",
        "    n_iter : int\n",
        "        Passes over the training dataset.\n",
        "\n",
        "    Attributes\n",
        "    -----------\n",
        "    w_ : 1d-array\n",
        "        Weights after fitting.\n",
        "    cost_ : list\n",
        "        Sum-of-squares cost function value averaged over all\n",
        "        training samples in each epoch.\n",
        "    shuffle : bool (default: True)\n",
        "        Shuffles training data every epoch if True to prevent cycles.\n",
        "    random_state : int (default: None)\n",
        "        Set random state for shuffling and initializing the weights.\n",
        "        \n",
        "    \"\"\"\n",
        "    def __init__(self, eta=0.01, n_iter=10, shuffle=True, random_state=None):\n",
        "        self.eta = eta\n",
        "        self.n_iter = n_iter\n",
        "        self.w_initialized = False\n",
        "        self.shuffle = shuffle\n",
        "        if random_state:\n",
        "            seed(random_state)\n",
        "        \n",
        "    def fit(self, X, y):\n",
        "        \"\"\" Fit training data.\n",
        "\n",
        "        Parameters\n",
        "        ----------\n",
        "        X : {array-like}, shape = [n_samples, n_features]\n",
        "            Training vectors, where n_samples is the number of samples and\n",
        "            n_features is the number of features.\n",
        "        y : array-like, shape = [n_samples]\n",
        "            Target values.\n",
        "\n",
        "        Returns\n",
        "        -------\n",
        "        self : object\n",
        "\n",
        "        \"\"\"\n",
        "        self._initialize_weights(X.shape[1])\n",
        "        self.cost_ = []\n",
        "        for i in range(self.n_iter):\n",
        "            #print(i)\n",
        "            ### shuffle the data, \"Important to present data in random order\"\n",
        "            if self.shuffle:\n",
        "                X, y = self._shuffle(X, y)\n",
        "            #print(X)\n",
        "            #print(y)\n",
        "            cost = []\n",
        "            #print(cost)\n",
        "            for xi, target in zip(X, y):\n",
        "                \n",
        "                #print(xi)\n",
        "                #print(target)\n",
        "                cost.append(self._update_weights(xi, target))\n",
        "                #return self._update_weights\n",
        "                #print(cost)\n",
        "            avg_cost = sum(cost) / len(y)\n",
        "            #print(avg_cost)\n",
        "            self.cost_.append(avg_cost)\n",
        "        #return cost\n",
        "        #return weights\n",
        "        return self\n",
        "        \n",
        "\n",
        "    def partial_fit(self, X, y):\n",
        "        \"\"\"Fit training data without reinitializing the weights\"\"\"\n",
        "        if not self.w_initialized:\n",
        "            self._initialize_weights(X.shape[1])\n",
        "        if y.ravel().shape[0] > 1:\n",
        "            for xi, target in zip(X, y):\n",
        "                self._update_weights(xi, target)\n",
        "        else:\n",
        "            self._update_weights(X, y)\n",
        "        return self\n",
        "\n",
        "    def _shuffle(self, X, y):\n",
        "        \"\"\"Shuffle training data\"\"\"\n",
        "        r = np.random.permutation(len(y))\n",
        "        return X[r], y[r]\n",
        "    \n",
        "    def _initialize_weights(self, m):\n",
        "        \"\"\"Initialize weights to zeros\"\"\"\n",
        "        self.w_ = np.zeros(1 + m)\n",
        "        self.w_initialized = True\n",
        "        \n",
        "    def _update_weights(self, xi, target):\n",
        "        \"\"\"Apply Adaline learning rule to update the weights\"\"\"\n",
        "        output = self.net_input(xi)\n",
        "        error = (target - output)\n",
        "        weights = []\n",
        "        bias = []\n",
        "        self.w_[1:] += self.eta * xi.dot(error)\n",
        "        self.w_[0] += self.eta * error\n",
        "        bias.append(self.w_[0])\n",
        "        weights.append(self.w_[1:])\n",
        "        cost = 0.5 * error**2\n",
        "        #return error\n",
        "        return cost\n",
        "        #return bias\n",
        "        #return weights\n",
        "    \n",
        "    def net_input(self, X):\n",
        "        \"\"\"Calculate net input\"\"\"\n",
        "        #net_inputs = np.dot(X, self.w_[1:]) + self.w_[0]\n",
        "        #return net_inputs\n",
        "        return np.dot(X, self.w_[1:]) + self.w_[0]\n",
        "        \n",
        "\n",
        "    def activation(self, X):\n",
        "        \"\"\"Compute linear activation\"\"\"\n",
        "        return self.net_input(X)\n",
        "        #activations = self.net_input(X)\n",
        "        #print(activations)\n",
        "        #return activations\n",
        "\n",
        "    def predict(self, X):\n",
        "        \"\"\"Return class label after unit step\"\"\"\n",
        "        #predictions = np.where(self.activation(X) >= 0.0, 1, 0)\n",
        "        #print(predictions)\n",
        "        #return predictions\n",
        "        return np.where(self.activation(X) >= 0.0, 1, 0)\n",
        "    \n",
        "    # try to evaluate misclassifation rate by creating a function that will count\n",
        "      # how many actual values the model predicted correctly\n",
        "    #def evaluate(self, X, y):\n",
        "        #accuracy = np.count_nonzero(self.predict == y)\n",
        "        #return accuracy\n"
      ],
      "metadata": {
        "id": "RoS6Ei-cBlSz"
      },
      "execution_count": null,
      "outputs": []
    },
    {
      "cell_type": "code",
      "source": [
        "# y = targets, 6th column in the data set\n",
        "y = train.iloc[0:714, 6].values\n",
        "#print(y)\n",
        "\n",
        "# x = predictors, 1st to 5th columns \n",
        "X = train.iloc[0:714, 0:6].values\n",
        "#print(X)"
      ],
      "metadata": {
        "id": "aPRK5ZVXtqpA"
      },
      "execution_count": null,
      "outputs": []
    },
    {
      "cell_type": "code",
      "source": [
        "# standardize features\n",
        "X_std = np.copy(X)\n",
        "X_std[:, 2] = (X[:, 2] - X[:, 2].mean()) / X[:, 2].std()\n",
        "X_std[:, 5] = (X[:, 5] - X[:, 5].mean()) / X[:, 5].std()\n",
        "#print(X_std)"
      ],
      "metadata": {
        "id": "KcYqFd_Mv7_2"
      },
      "execution_count": null,
      "outputs": []
    },
    {
      "cell_type": "code",
      "source": [
        "seed(379)\n",
        "ada = AdalineSGD(n_iter = 15, eta=0.01)\n",
        "ada.fit(X_std, y)\n",
        "\n",
        "\n",
        "#Take these weights, take dot product of these with test set, take net input through condition\n",
        "  #classify based on that, compare to actual \n",
        "\n",
        "weights = ada.w_\n",
        "print(\"weights: \" + \"Bias(w0) = \" + str(weights[0]) + \n",
        "      \", w1 = \"  + str(weights[1]) + \n",
        "      \", w2 = \"  + str(weights[2]) + \n",
        "      \", w3 = \"  + str(weights[3]) + \n",
        "      \", w4 = \"  + str(weights[4]) + \n",
        "      \", w5 = \"  + str(weights[5]) + \n",
        "      \", w6 = \"  + str(weights[6]))\n",
        "\n",
        "#def predictions(weights, x, y):\n",
        "  "
      ],
      "metadata": {
        "colab": {
          "base_uri": "https://localhost:8080/"
        },
        "id": "XvWnymNo5_O0",
        "outputId": "58c79f9c-2527-4027-e32d-43125da7c0a9"
      },
      "execution_count": null,
      "outputs": [
        {
          "output_type": "stream",
          "name": "stdout",
          "text": [
            "weights: Bias(w0) = 0.703762575527927, w1 = -0.14365751319652265, w2 = 0.48716934455266003, w3 = -0.12019977344495825, w4 = -0.03368032854276267, w5 = -0.017250012703283447, w6 = -0.018282025057924006\n"
          ]
        }
      ]
    },
    {
      "cell_type": "code",
      "source": [
        "plt.plot(range(1, len(ada.cost_) + 1), ada.cost_, marker='o')\n",
        "plt.xlabel('Iterations')\n",
        "plt.ylabel('Average Cost')\n",
        "plt.tight_layout()\n",
        "# plt.savefig('./adaline_5.png', dpi=300)\n",
        "plt.show()"
      ],
      "metadata": {
        "colab": {
          "base_uri": "https://localhost:8080/",
          "height": 297
        },
        "id": "5pUDpLjOIN2l",
        "outputId": "54cb2399-0d67-4474-b47b-2c15e8c09beb"
      },
      "execution_count": null,
      "outputs": [
        {
          "output_type": "display_data",
          "data": {
            "text/plain": [
              "<Figure size 432x288 with 1 Axes>"
            ],
            "image/png": "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\n"
          },
          "metadata": {
            "needs_background": "light"
          }
        }
      ]
    },
    {
      "cell_type": "code",
      "source": [
        "y_pred = ada.predict(X_std)\n",
        "y_pred\n",
        "print('Misclassified samples in train set: %d' % (y != y_pred).sum() + \" out of \" + str(len(y_pred)))\n",
        "print(\"Model accuracy for train set: \" + str(((y == y_pred).sum()) / y.shape[0] * 100) + \"%\")"
      ],
      "metadata": {
        "colab": {
          "base_uri": "https://localhost:8080/"
        },
        "id": "BafsdP7fG1C2",
        "outputId": "853e2812-bcfa-477d-9503-049c146d10b3"
      },
      "execution_count": null,
      "outputs": [
        {
          "output_type": "stream",
          "name": "stdout",
          "text": [
            "Misclassified samples in train set: 421 out of 714\n",
            "Model accuracy for train set: 41.03641456582633%\n"
          ]
        }
      ]
    },
    {
      "cell_type": "code",
      "source": [
        "#FOR PYTHON SCRIPT ONLY\n",
        "'''\n",
        "b = open('/Users/melchorronquillo/Desktop/Files/Data/titanic/test.csv')\n",
        "test = pd.read_csv(b, sep = ',')\n",
        "'''"
      ],
      "metadata": {
        "colab": {
          "base_uri": "https://localhost:8080/",
          "height": 37
        },
        "id": "aVL0FWOtQYja",
        "outputId": "be689346-df59-4850-c43c-a505c2251b7e"
      },
      "execution_count": null,
      "outputs": [
        {
          "output_type": "execute_result",
          "data": {
            "text/plain": [
              "\"\\nb = open('/Users/melchorronquillo/Desktop/Files/Data/titanic/test.csv')\\ntest = pd.read_csv(b, sep = ',')\\n\""
            ],
            "application/vnd.google.colaboratory.intrinsic+json": {
              "type": "string"
            }
          },
          "metadata": {},
          "execution_count": 255
        }
      ]
    },
    {
      "cell_type": "code",
      "source": [
        "test = pd.read_csv(\"/content/test.csv\", sep = ',')\n",
        "gender = pd.read_csv('/content/gender_submission.csv', sep = ',')"
      ],
      "metadata": {
        "id": "pjwUV-QnGqxb"
      },
      "execution_count": null,
      "outputs": []
    },
    {
      "cell_type": "code",
      "source": [
        "test = pd.merge(gender, test, how = 'inner', on = 'PassengerId')\n",
        "#create dataframe of test data using only \"pclass\", \"sex\", and \"fare\"\n",
        "\n",
        "gendr = pd.get_dummies(test['Sex'])\n",
        "test = pd.concat((test, gendr), axis=1)\n",
        "test = test.drop([\"Sex\"], axis=1)\n",
        "test = test.drop([\"male\"], axis=1)\n",
        "test = test.rename(columns={\"female\": \"Sex\"})\n",
        "#test\n"
      ],
      "metadata": {
        "id": "BanZ4x8VQizo"
      },
      "execution_count": null,
      "outputs": []
    },
    {
      "cell_type": "code",
      "source": [
        "test = test[['Pclass','Sex', 'Age', 'SibSp', 'Parch', 'Fare', 'Survived']]\n",
        "#test"
      ],
      "metadata": {
        "id": "fcjYxheBchm-"
      },
      "execution_count": null,
      "outputs": []
    },
    {
      "cell_type": "code",
      "source": [
        "test = test.dropna()\n",
        "#test"
      ],
      "metadata": {
        "id": "TTDFGJz_IWr4"
      },
      "execution_count": null,
      "outputs": []
    },
    {
      "cell_type": "code",
      "source": [
        "y_test = test.iloc[0:331, 6].values\n",
        "#print(y_test)\n",
        "\n",
        "# x = predictors, 1st to 5th columns \n",
        "X_test = test.iloc[0:331, 0:6].values\n",
        "#print(X_test)\n",
        "\n",
        "#standardize age and fare\n",
        "X_tst_std = np.copy(X_test)\n",
        "X_tst_std[:, 2] = (X_test[:, 2] - X_test[:, 2].mean()) / X_test[:, 2].std()\n",
        "X_tst_std[:, 5] = (X_test[:, 5] - X_test[:, 5].mean()) / X_test[:, 5].std()\n",
        "print(X_tst_std)"
      ],
      "metadata": {
        "id": "pbfv4mnGcJq_",
        "colab": {
          "base_uri": "https://localhost:8080/"
        },
        "outputId": "0cb77769-d956-42c3-ab2c-bbc58b879d78"
      },
      "execution_count": null,
      "outputs": [
        {
          "output_type": "stream",
          "name": "stdout",
          "text": [
            "[[ 3.          0.          0.30665727  0.          0.         -0.54228095]\n",
            " [ 3.          1.          1.19423645  1.          0.         -0.55584416]\n",
            " [ 2.          0.          2.25933148  0.          0.         -0.51188479]\n",
            " ...\n",
            " [ 3.          1.         -0.15488391  0.          0.         -0.5431675 ]\n",
            " [ 1.          1.          0.62618578  0.          0.          1.11093161]\n",
            " [ 3.          0.          0.59068261  0.          0.         -0.55175491]]\n"
          ]
        }
      ]
    },
    {
      "cell_type": "code",
      "source": [
        "y_tst_pred = ada.predict(X_tst_std)\n",
        "y_tst_pred\n",
        "print('Misclassified samples in test set: %d' % (y_test != y_tst_pred).sum() + \" out of \" + str(len(y_tst_pred)))\n",
        "print(\"Model accuracy for test set: \" + str(((y_test == y_tst_pred).sum()) / y_test.shape[0] * 100) + \"%\")"
      ],
      "metadata": {
        "colab": {
          "base_uri": "https://localhost:8080/"
        },
        "id": "tEDsdkFm5MIo",
        "outputId": "cc14aac8-3c25-47c6-f2d7-9c6b750b0cf7"
      },
      "execution_count": null,
      "outputs": [
        {
          "output_type": "stream",
          "name": "stdout",
          "text": [
            "Misclassified samples in test set: 204 out of 331\n",
            "Model accuracy for test set: 38.368580060422964%\n"
          ]
        }
      ]
    },
    {
      "cell_type": "code",
      "source": [
        "#try to make predictions manually\n",
        "\n",
        "#print(weights)\n",
        "#print(weights[0])\n",
        "#weights[1]\n",
        "#weights[6]\n",
        "#X_tst_std[0][5]\n",
        "\n",
        "#print(type(X_tst_std[0][0]))\n",
        "\n",
        "predictions_test = []\n",
        "for i in range(len(X_tst_std)):\n",
        "  #print(X_tst_std[i][0])\n",
        "  yhat_tst = weights[0] + weights[1]*X_tst_std[i][0] + weights[2]*X_tst_std[i][1] + weights[3]*X_tst_std[i][2] + weights[4]*X_tst_std[i][3] + weights[5]*X_tst_std[i][4] + weights[6]*X_tst_std[i][5] \n",
        "  if yhat_tst >= 0.0:\n",
        "    predictions_test.append(1)\n",
        "  else:\n",
        "    predictions_test.append(0)\n",
        "\n",
        "#print(len(predictions_test))\n",
        "print('Misclassified samples: %d' % (y_test != predictions_test).sum())"
      ],
      "metadata": {
        "colab": {
          "base_uri": "https://localhost:8080/"
        },
        "id": "qXPVNEMYELdV",
        "outputId": "07f65700-e22b-4d34-bcc3-bcda082976b6"
      },
      "execution_count": null,
      "outputs": [
        {
          "output_type": "stream",
          "name": "stdout",
          "text": [
            "Misclassified samples: 204\n"
          ]
        }
      ]
    },
    {
      "cell_type": "markdown",
      "source": [
        "##Problem 4\n",
        "\n",
        "What were the most predictive features of your Titanic model? Provide evidence."
      ],
      "metadata": {
        "id": "1k9T2OddlZuc"
      }
    },
    {
      "cell_type": "code",
      "source": [
        "##GET WEIGHTS"
      ],
      "metadata": {
        "id": "UZX-UguClb_L"
      },
      "execution_count": null,
      "outputs": []
    },
    {
      "cell_type": "markdown",
      "source": [
        "##Problem 5\n",
        "\n",
        "A common approach for evaluating a machine learning model is to com- pare it to a baseline model, which usually uses simple heuristics and/or randomness. The purpose of this comparison is to ensure that the machine learning model is behaving in an ‘intelligent’ way (e.g. rather than merely guessing). Please create a baseline model and compare its performance to the performance of your perceptron and adaline models. One possibility here is to simply set the weights to random numbers and have the model generate predictions using these weights"
      ],
      "metadata": {
        "id": "DDK4DQAhlB8q"
      }
    },
    {
      "cell_type": "code",
      "source": [
        "#initialize weights = 0 or small numbers\n",
        "import random\n",
        "weights5 = []\n",
        "for i in range(0,3):\n",
        "  n = random.uniform(0.00, 1.00)\n",
        "  weights5.append(n)\n",
        "#print(weights)\n",
        "weights5 = np.array(weights)\n",
        "#weights5\n"
      ],
      "metadata": {
        "colab": {
          "base_uri": "https://localhost:8080/"
        },
        "id": "FMSwnv5ClElw",
        "outputId": "2e07d7a4-52e0-44b2-9204-83a3e86e7072"
      },
      "execution_count": null,
      "outputs": [
        {
          "output_type": "execute_result",
          "data": {
            "text/plain": [
              "array([0.52284347, 0.64313839, 0.05735158])"
            ]
          },
          "metadata": {},
          "execution_count": 89
        }
      ]
    },
    {
      "cell_type": "code",
      "source": [
        "dataset5 = [[2.7810836,2.550537003,0],\n",
        "\t[1.465489372,2.362125076,0],\n",
        "\t[3.396561688,4.400293529,0],\n",
        "\t[1.38807019,1.850220317,0],\n",
        "\t[3.06407232,3.005305973,0],\n",
        "\t[7.627531214,2.759262235,1],\n",
        "\t[5.332441248,2.088626775,1],\n",
        "\t[6.922596716,1.77106367,1],\n",
        "\t[8.675418651,-0.242068655,1],\n",
        "\t[7.673756466,3.508563011,1]]\n",
        "\n",
        "dataf5 = pd.DataFrame(data=dataset5)\n",
        "\n",
        "x1_5 = np.array(dataf5[0])\n",
        "#x1_5\n",
        "\n",
        "x2_5 = np.array(dataf5[1])\n",
        "#x2_5\n",
        "\n",
        "targets_5 = np.array(dataf5[2])\n",
        "#targets_5"
      ],
      "metadata": {
        "colab": {
          "base_uri": "https://localhost:8080/"
        },
        "id": "0P0p1Mv1_s9r",
        "outputId": "3e1d44fd-60f1-470b-fee9-d3fd20c0dac0"
      },
      "execution_count": null,
      "outputs": [
        {
          "output_type": "execute_result",
          "data": {
            "text/plain": [
              "array([0, 0, 0, 0, 0, 1, 1, 1, 1, 1])"
            ]
          },
          "metadata": {},
          "execution_count": 88
        }
      ]
    },
    {
      "cell_type": "code",
      "source": [
        "n_iter = 25\n",
        "n_learn = 0.01\n",
        "err_in_iter_5 = []\n",
        "for iter in range(n_iter):\n",
        "  #print(\"iteration: \" + str(iter))\n",
        "  predict_5 = []\n",
        "  amt_err = 0.0\n",
        "  for i in range(len(x1_5)):    \n",
        "    #print(\"index: \" + str(i))\n",
        "    #print(x1[i])\n",
        "    #print(x2[i])\n",
        "    #print(\"weight 0: \" + str(weights[0]))\n",
        "    #print(\"weight 1: \" + str(weights[1]))\n",
        "    #print(\"weight 2: \" + str(weights[2]))\n",
        "    z = (weights5[0] + (weights5[1] * x1_5[i]) + (weights5[2] * x2_5[i]))\n",
        "    #print(\"z = \" + str(z))\n",
        "    if z >= 0.0:\n",
        "      predict_5.append(1)\n",
        "    else:\n",
        "      predict_5.append(0)\n",
        "    #print(predict)\n",
        "    error = targets_5[i] - predict_5[i]\n",
        "    #print(\"error: \" + str(error))\n",
        "    amt_err += error**2\n",
        "    #print(\"sum_error: \" + str(amt_err))\n",
        "    weights5[0] += (n_learn * error)\n",
        "    #print(\"updated weight 0 : \" + str(weights5[0]))\n",
        "    weights5[1] = weights5[1] + (n_learn * error * x1_5[i])\n",
        "    #print(\"updated weight 1: \" + str(weights5[1]))\n",
        "    weights5[2] = weights5[2] + (n_learn * error * x2_5[i])\n",
        "    #print(\"updated weight 2: \" + str(weights5[2]))\n",
        "  err_in_iter_5.append(amt_err)\n"
      ],
      "metadata": {
        "id": "OCJsaGuy_gwu"
      },
      "execution_count": null,
      "outputs": []
    },
    {
      "cell_type": "code",
      "source": [
        "print(weights5)\n",
        "print(\"predictions: \" + str(predict_5))\n",
        "print(\"Actual: \" + str(targets_5))\n",
        "print(\"errors per iteration: \" + str(err_in_iter_5))"
      ],
      "metadata": {
        "colab": {
          "base_uri": "https://localhost:8080/"
        },
        "id": "C5lG1An3A3nM",
        "outputId": "e4b07182-d56b-40ff-a028-adda70e492cf"
      },
      "execution_count": null,
      "outputs": [
        {
          "output_type": "stream",
          "name": "stdout",
          "text": [
            "[ 0.35284347  0.22465841 -0.41871362]\n",
            "predictions: [0, 0, 0, 0, 0, 1, 1, 1, 1, 1]\n",
            "Actual: [0 0 0 0 0 1 1 1 1 1]\n",
            "errors per iteration: [0.0, 0.0, 0.0, 0.0, 0.0, 0.0, 0.0, 0.0, 0.0, 0.0, 0.0, 0.0, 0.0, 0.0, 0.0, 0.0, 0.0, 0.0, 0.0, 0.0, 0.0, 0.0, 0.0, 0.0, 0.0]\n"
          ]
        }
      ]
    },
    {
      "cell_type": "code",
      "source": [
        "dataset5 = [[2.7810836,2.550537003,0],\n",
        "\t[1.465489372,2.362125076,0],\n",
        "\t[3.396561688,4.400293529,0],\n",
        "\t[1.38807019,1.850220317,0],\n",
        "\t[3.06407232,3.005305973,0],\n",
        "\t[7.627531214,2.759262235,1],\n",
        "\t[5.332441248,2.088626775,1],\n",
        "\t[6.922596716,1.77106367,1],\n",
        "\t[8.675418651,-0.242068655,1],\n",
        "\t[7.673756466,3.508563011,1]]\n",
        "\n",
        "dataf5 = pd.DataFrame(data=dataset5)\n",
        "x1_5 = np.array(dataf5[0])\n",
        "#x1_5\n",
        "x2_5 = np.array(dataf5[1])\n",
        "#x2_5\n",
        "targets_5 = np.array(dataf5[2])\n",
        "#targets_5\n",
        "\n",
        "#baseline classifier algorithm found online\n",
        "  #SKlearn has a package that serves as a baseline classifier that can be used to compare\n",
        "    # model's performance\n",
        "\n",
        "from sklearn.dummy import DummyClassifier\n",
        "\n",
        "#perceptron data\n",
        "X5 = dataf5.iloc[0:10, 0:2].values\n",
        "Y5 = dataf5.iloc[0:10, 2].values\n",
        "print(X5)\n",
        "print(Y5)\n",
        "\n",
        "\n",
        "for strategy in ['stratified','most_frequent','prior',\n",
        "               'uniform']:\n",
        "    \n",
        "    model_dummy = DummyClassifier(strategy = strategy)\n",
        "    model_dummy.fit(X5,Y5)\n",
        "    print(\"The %s's accuracy is %f\"%(strategy,model_dummy.score(X5,Y5)))"
      ],
      "metadata": {
        "colab": {
          "base_uri": "https://localhost:8080/"
        },
        "id": "ZmxQPrSRCtFh",
        "outputId": "cfac75e6-69d0-436e-b284-95bd6bdffd07"
      },
      "execution_count": null,
      "outputs": [
        {
          "output_type": "stream",
          "name": "stdout",
          "text": [
            "[[ 2.7810836   2.550537  ]\n",
            " [ 1.46548937  2.36212508]\n",
            " [ 3.39656169  4.40029353]\n",
            " [ 1.38807019  1.85022032]\n",
            " [ 3.06407232  3.00530597]\n",
            " [ 7.62753121  2.75926224]\n",
            " [ 5.33244125  2.08862677]\n",
            " [ 6.92259672  1.77106367]\n",
            " [ 8.67541865 -0.24206865]\n",
            " [ 7.67375647  3.50856301]]\n",
            "[0 0 0 0 0 1 1 1 1 1]\n",
            "The stratified's accuracy is 0.500000\n",
            "The most_frequent's accuracy is 0.500000\n",
            "The prior's accuracy is 0.500000\n",
            "The uniform's accuracy is 0.700000\n"
          ]
        }
      ]
    },
    {
      "cell_type": "code",
      "source": [
        "#titanic data\n",
        "xt5 = X_tst_std\n",
        "yt5 = y_test\n",
        "\n",
        "for strategy in ['stratified','most_frequent','prior',\n",
        "               'uniform']:\n",
        "    \n",
        "    model_dummy = DummyClassifier(strategy = strategy)\n",
        "    model_dummy.fit(xt5,yt5)\n",
        "    print(\"The %s's accuracy is %f\"%(strategy,model_dummy.score(xt5,yt5)))"
      ],
      "metadata": {
        "colab": {
          "base_uri": "https://localhost:8080/"
        },
        "id": "UBs8k3Y0nV7o",
        "outputId": "2c4c4a4f-06f4-4c13-ea6e-a9d23eee9d27"
      },
      "execution_count": null,
      "outputs": [
        {
          "output_type": "stream",
          "name": "stdout",
          "text": [
            "The stratified's accuracy is 0.558912\n",
            "The most_frequent's accuracy is 0.616314\n",
            "The prior's accuracy is 0.616314\n",
            "The uniform's accuracy is 0.492447\n"
          ]
        }
      ]
    }
    
